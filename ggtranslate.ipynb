{
 "cells": [
  {
   "cell_type": "markdown",
   "metadata": {},
   "source": [
    "# Google Translate API with Python request\n",
    "\n",
    "Python library is cool, as many know that we can simply use https://pypi.org/project/googletrans/ which is free and unlimited.\n",
    "But how about we do it ourselves for fun-sake! With basic POST request you can directly make a call to google translate directly!\n",
    "\n",
    "Google Translate API documentation (that I mimick the \"curl\" example)\n",
    "https://cloud.google.com/translate/docs/basic/setup-basic\n",
    "\n",
    "## Getting start\n",
    "1. Please follow the [document](https://cloud.google.com/translate/docs/basic/setup-basic) on the official website\n",
    "2. You should now have...\n",
    "    - created a project for google translation api\n",
    "    - download private json key\n",
    "    - set GOOGLE_APPLICATION_CREDENTIALS env variable to the full PATH to your json file\n",
    "    - install **gcloud sdk**\n",
    "\n",
    "To check if you're ready for curl request, try running this command on your console:\n",
    "`gcloud auth application-default print-access-token`\n",
    "This should reture access token for google translation API\n",
    "\n",
    "Note: `json` file contains key and links need for you to refresh you token after it expires. Running the `gcloud` commands does all the work for requesting for a token or refreshing the token"
   ]
  },
  {
   "cell_type": "code",
   "execution_count": 1,
   "metadata": {},
   "outputs": [],
   "source": [
    "import requests\n",
    "import json\n",
    "import subprocess"
   ]
  },
  {
   "cell_type": "code",
   "execution_count": 2,
   "metadata": {},
   "outputs": [],
   "source": [
    "token = subprocess.check_output([\n",
    "    r'C:\\Users\\Acer\\AppData\\Local\\Google\\Cloud SDK\\google-cloud-sdk\\bin\\gcloud.cmd',\n",
    "    'auth',\n",
    "    'application-default',\n",
    "    'print-access-token'\n",
    "]).strip().decode(\"utf-8\")"
   ]
  },
  {
   "cell_type": "code",
   "execution_count": 3,
   "metadata": {},
   "outputs": [],
   "source": [
    "headers = {\n",
    "    'Authorization': 'Bearer {token}'.format(token = token)\n",
    "}\n",
    "\n",
    "data = {\n",
    "    'q' : 'Xing★內刷毛孕婦打底褲側邊條紋春裝外穿托腹長褲顯瘦打底加大尺碼孕婦褲',\n",
    "    'source': 'zh',\n",
    "    'target': 'en',\n",
    "    'format': 'text'\n",
    "}\n",
    "\n",
    "response = requests.post(\n",
    "    url = 'https://translation.googleapis.com/language/translate/v2',\n",
    "    headers = headers,\n",
    "    data = data\n",
    ")"
   ]
  },
  {
   "cell_type": "code",
   "execution_count": 4,
   "metadata": {
    "scrolled": true
   },
   "outputs": [
    {
     "data": {
      "text/plain": [
       "{'data': {'translations': [{'translatedText': \"Xing ★ Inner brushed pregnant women's leggings side stripes spring wear outer stomach lift trousers were thin bottoming increase size pregnant women's pants\"}]}}"
      ]
     },
     "execution_count": 4,
     "metadata": {},
     "output_type": "execute_result"
    }
   ],
   "source": [
    "json.loads(response.text)"
   ]
  },
  {
   "cell_type": "code",
   "execution_count": null,
   "metadata": {},
   "outputs": [],
   "source": []
  }
 ],
 "metadata": {
  "kernelspec": {
   "display_name": "Python 3",
   "language": "python",
   "name": "python3"
  },
  "language_info": {
   "codemirror_mode": {
    "name": "ipython",
    "version": 3
   },
   "file_extension": ".py",
   "mimetype": "text/x-python",
   "name": "python",
   "nbconvert_exporter": "python",
   "pygments_lexer": "ipython3",
   "version": "3.7.6"
  }
 },
 "nbformat": 4,
 "nbformat_minor": 4
}
